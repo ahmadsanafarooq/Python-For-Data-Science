{
  "cells": [
    {
      "cell_type": "markdown",
      "metadata": {
        "id": "-eFNbz8_qcTs"
      },
      "source": [
        "# DataDrift with Us - Python Day 7\n",
        "# `set`"
      ],
      "id": "-eFNbz8_qcTs"
    },
    {
      "cell_type": "markdown",
      "metadata": {
        "id": "ncn4sfovqcT1"
      },
      "source": [
        "##  What is a Set in Python?\n",
        "\n",
        "A `set` is an **unordered**, **unindexed**, and **mutable** collection of **unique** elements."
      ],
      "id": "ncn4sfovqcT1"
    },
    {
      "cell_type": "code",
      "execution_count": 1,
      "metadata": {
        "colab": {
          "base_uri": "https://localhost:8080/"
        },
        "id": "DQ2Th0dWqcT3",
        "outputId": "091b728d-6ab8-4216-c1f2-6ffa892845f2"
      },
      "outputs": [
        {
          "output_type": "stream",
          "name": "stdout",
          "text": [
            "{1, 2, 3, 4}\n"
          ]
        }
      ],
      "source": [
        "my_set = {1, 2, 3, 4}\n",
        "print(my_set)"
      ],
      "id": "DQ2Th0dWqcT3"
    },
    {
      "cell_type": "markdown",
      "metadata": {
        "id": "f9Qxwye2qcT8"
      },
      "source": [
        "##  Key Properties of Sets\n",
        "\n",
        "- **Unordered**: No indexing\n",
        "- **Unique**: No duplicate elements\n",
        "- **Mutable**: You can add/remove elements\n",
        "- **Iterable**: Can be looped through"
      ],
      "id": "f9Qxwye2qcT8"
    },
    {
      "cell_type": "markdown",
      "metadata": {
        "id": "J-v4Z2rAqcT9"
      },
      "source": [
        "## 1. Creating Sets"
      ],
      "id": "J-v4Z2rAqcT9"
    },
    {
      "cell_type": "code",
      "execution_count": 2,
      "metadata": {
        "id": "Ed-X1r1AqcT9"
      },
      "outputs": [],
      "source": [
        "s1 = set([1, 2, 3, 4])\n",
        "s2 = set(\"hello\")\n",
        "empty = set()"
      ],
      "id": "Ed-X1r1AqcT9"
    },
    {
      "cell_type": "markdown",
      "metadata": {
        "id": "Atvma4a9qcT-"
      },
      "source": [
        "##  2. Adding and Removing Elements"
      ],
      "id": "Atvma4a9qcT-"
    },
    {
      "cell_type": "code",
      "execution_count": 3,
      "metadata": {
        "id": "DlI5_aI-qcT-"
      },
      "outputs": [],
      "source": [
        "s = {1, 2}\n",
        "s.add(3)\n",
        "s.update([4, 5])\n",
        "s.remove(4)\n",
        "s.discard(10)\n",
        "s.pop()\n",
        "s.clear()"
      ],
      "id": "DlI5_aI-qcT-"
    },
    {
      "cell_type": "markdown",
      "metadata": {
        "id": "tTdA_j-LqcT_"
      },
      "source": [
        "## 3. Set Operations (Union, Intersection, Difference, Symmetric Difference)"
      ],
      "id": "tTdA_j-LqcT_"
    },
    {
      "cell_type": "code",
      "execution_count": 4,
      "metadata": {
        "colab": {
          "base_uri": "https://localhost:8080/"
        },
        "id": "GDaq5JgrqcUA",
        "outputId": "a7d1e342-8956-4a7b-8aac-e1a63da68d73"
      },
      "outputs": [
        {
          "output_type": "stream",
          "name": "stdout",
          "text": [
            "Union: {1, 2, 3, 4, 5, 6}\n",
            "Intersection: {3, 4}\n",
            "Difference: {1, 2}\n",
            "Symmetric Difference: {1, 2, 5, 6}\n"
          ]
        }
      ],
      "source": [
        "A = {1, 2, 3, 4}\n",
        "B = {3, 4, 5, 6}\n",
        "\n",
        "print(\"Union:\", A | B)\n",
        "print(\"Intersection:\", A & B)\n",
        "print(\"Difference:\", A - B)\n",
        "print(\"Symmetric Difference:\", A ^ B)"
      ],
      "id": "GDaq5JgrqcUA"
    },
    {
      "cell_type": "markdown",
      "metadata": {
        "id": "wC4Kqt5mqcUB"
      },
      "source": [
        "## 4. Set Comparisons"
      ],
      "id": "wC4Kqt5mqcUB"
    },
    {
      "cell_type": "code",
      "execution_count": 5,
      "metadata": {
        "colab": {
          "base_uri": "https://localhost:8080/"
        },
        "id": "tObS2k23qcUD",
        "outputId": "1c5f50c9-8b9b-40d5-a37c-3720a8c2d5f0"
      },
      "outputs": [
        {
          "output_type": "stream",
          "name": "stdout",
          "text": [
            "True\n",
            "True\n",
            "True\n"
          ]
        }
      ],
      "source": [
        "A = {1, 2, 3}\n",
        "B = {1, 2}\n",
        "\n",
        "print(B.issubset(A))\n",
        "print(A.issuperset(B))\n",
        "print(A.isdisjoint({4, 5}))"
      ],
      "id": "tObS2k23qcUD"
    },
    {
      "cell_type": "markdown",
      "metadata": {
        "id": "7XOHKHG4qcUF"
      },
      "source": [
        "##  5. Looping Through Sets"
      ],
      "id": "7XOHKHG4qcUF"
    },
    {
      "cell_type": "code",
      "execution_count": 6,
      "metadata": {
        "colab": {
          "base_uri": "https://localhost:8080/"
        },
        "id": "mONNeMaAqcUG",
        "outputId": "0e4d0e8f-7393-4724-9211-1191e99fac82"
      },
      "outputs": [
        {
          "output_type": "stream",
          "name": "stdout",
          "text": [
            "a\n",
            "c\n",
            "b\n"
          ]
        }
      ],
      "source": [
        "for item in {'a', 'b', 'c'}:\n",
        "    print(item)"
      ],
      "id": "mONNeMaAqcUG"
    },
    {
      "cell_type": "markdown",
      "metadata": {
        "id": "GFBz0lZ6qcUG"
      },
      "source": [
        "##  6. What Sets Don’t Support"
      ],
      "id": "GFBz0lZ6qcUG"
    },
    {
      "cell_type": "code",
      "execution_count": 8,
      "metadata": {
        "colab": {
          "base_uri": "https://localhost:8080/",
          "height": 158
        },
        "id": "Br3HKoUxqcUH",
        "outputId": "d93c1c33-be56-4145-ef8c-73b0589823f7"
      },
      "outputs": [
        {
          "output_type": "error",
          "ename": "TypeError",
          "evalue": "'set' object is not subscriptable",
          "traceback": [
            "\u001b[0;31m---------------------------------------------------------------------------\u001b[0m",
            "\u001b[0;31mTypeError\u001b[0m                                 Traceback (most recent call last)",
            "\u001b[0;32m/tmp/ipython-input-3656986710.py\u001b[0m in \u001b[0;36m<cell line: 0>\u001b[0;34m()\u001b[0m\n\u001b[1;32m      1\u001b[0m \u001b[0mmy_set\u001b[0m \u001b[0;34m=\u001b[0m \u001b[0;34m{\u001b[0m\u001b[0;36m1\u001b[0m\u001b[0;34m,\u001b[0m \u001b[0;36m2\u001b[0m\u001b[0;34m,\u001b[0m \u001b[0;36m3\u001b[0m\u001b[0;34m}\u001b[0m\u001b[0;34m\u001b[0m\u001b[0;34m\u001b[0m\u001b[0m\n\u001b[0;32m----> 2\u001b[0;31m \u001b[0mprint\u001b[0m\u001b[0;34m(\u001b[0m\u001b[0mmy_set\u001b[0m\u001b[0;34m[\u001b[0m\u001b[0;36m0\u001b[0m\u001b[0;34m]\u001b[0m\u001b[0;34m)\u001b[0m  \u001b[0;31m# ❌ Raises TypeError\u001b[0m\u001b[0;34m\u001b[0m\u001b[0;34m\u001b[0m\u001b[0m\n\u001b[0m",
            "\u001b[0;31mTypeError\u001b[0m: 'set' object is not subscriptable"
          ]
        }
      ],
      "source": [
        "my_set = {1, 2, 3}\n",
        "print(my_set[0])  # ❌ Raises TypeError"
      ],
      "id": "Br3HKoUxqcUH"
    },
    {
      "cell_type": "markdown",
      "metadata": {
        "id": "hq40KLSlqcUL"
      },
      "source": [
        "##  7. Set Comprehension"
      ],
      "id": "hq40KLSlqcUL"
    },
    {
      "cell_type": "code",
      "execution_count": 9,
      "metadata": {
        "colab": {
          "base_uri": "https://localhost:8080/"
        },
        "id": "YeZUpjNrqcUN",
        "outputId": "efcf39f5-f99e-4ab4-e797-b2a1d25d9e97"
      },
      "outputs": [
        {
          "output_type": "stream",
          "name": "stdout",
          "text": [
            "{0, 1, 4, 9, 16}\n"
          ]
        }
      ],
      "source": [
        "squares = {x*x for x in range(5)}\n",
        "print(squares)"
      ],
      "id": "YeZUpjNrqcUN"
    },
    {
      "cell_type": "markdown",
      "metadata": {
        "id": "atuGtxanqcUN"
      },
      "source": [
        "##  8. Immutable Sets → `frozenset`"
      ],
      "id": "atuGtxanqcUN"
    },
    {
      "cell_type": "code",
      "execution_count": 10,
      "metadata": {
        "id": "jSqFxRHqqcUO"
      },
      "outputs": [],
      "source": [
        "fs = frozenset([1, 2, 3])\n",
        "# fs.add(4)  # ❌ Error: frozenset is immutable"
      ],
      "id": "jSqFxRHqqcUO"
    },
    {
      "cell_type": "markdown",
      "metadata": {
        "id": "WqxIRHp8qcUO"
      },
      "source": [
        "## 9. Common Set Methods Summary\n",
        "\n",
        "| Method                      | Description                                 |\n",
        "|----------------------------|---------------------------------------------|\n",
        "| `add(elem)`                | Adds an element                             |\n",
        "| `update(iterable)`         | Adds multiple elements                      |\n",
        "| `remove(elem)`             | Removes specific element (error if not found) |\n",
        "| `discard(elem)`            | Removes specific element (no error if not found) |\n",
        "| `pop()`                    | Removes and returns random item             |\n",
        "| `clear()`                  | Empties the set                             |\n",
        "| `union(set)`               | Returns union                               |\n",
        "| `intersection(set)`        | Returns intersection                        |\n",
        "| `difference(set)`          | Returns difference                          |\n",
        "| `symmetric_difference(set)`| Returns symmetric difference                |\n",
        "| `issubset(set)`            | Checks if set is subset                     |\n",
        "| `issuperset(set)`          | Checks if set is superset                   |\n",
        "| `isdisjoint(set)`          | Checks for no common elements               |"
      ],
      "id": "WqxIRHp8qcUO"
    },
    {
      "cell_type": "markdown",
      "metadata": {
        "id": "MGBdUy9iqcUP"
      },
      "source": [
        "##  10. Real-Life Example"
      ],
      "id": "MGBdUy9iqcUP"
    },
    {
      "cell_type": "code",
      "execution_count": 11,
      "metadata": {
        "colab": {
          "base_uri": "https://localhost:8080/"
        },
        "id": "Y3pRMfHkqcUP",
        "outputId": "27b7dbe0-38f7-443d-85a8-15493425ead0"
      },
      "outputs": [
        {
          "output_type": "stream",
          "name": "stdout",
          "text": [
            "{'Bob'}\n"
          ]
        }
      ],
      "source": [
        "students = {\"Alice\", \"Bob\", \"Charlie\"}\n",
        "present_today = {\"Alice\", \"Charlie\"}\n",
        "\n",
        "absent = students - present_today\n",
        "print(absent)  # {'Bob'}"
      ],
      "id": "Y3pRMfHkqcUP"
    }
  ],
  "metadata": {
    "kernelspec": {
      "display_name": "Python 3",
      "language": "python",
      "name": "python3"
    },
    "language_info": {
      "name": "python",
      "version": "3.9"
    },
    "colab": {
      "provenance": []
    }
  },
  "nbformat": 4,
  "nbformat_minor": 5
}