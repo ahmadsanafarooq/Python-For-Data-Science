{
  "cells": [
    {
      "cell_type": "markdown",
      "id": "37fc25cd",
      "metadata": {
        "id": "37fc25cd"
      },
      "source": [
        "# DataDrift with Us - Python Day 4\n",
        "###  Topics Covered:\n",
        "1. Definition of a Function\n",
        "2. Function Syntax\n",
        "3. Calling a Function\n",
        "4. Function Parameters / Arguments\n",
        "5. Return Statement\n",
        "6. Scope and Lifetime of Variables\n",
        "7. Local and Global Variables\n",
        "8. User-defined Functions\n",
        "9. Default Arguments\n",
        "10. Keyword Arguments\n",
        "11. Variable-length Arguments (`*args`, `**kwargs`)\n",
        "\n"
      ]
    },
    {
      "cell_type": "markdown",
      "id": "34e7c754",
      "metadata": {
        "id": "34e7c754"
      },
      "source": [
        "## Definition of a Function"
      ]
    },
    {
      "cell_type": "code",
      "execution_count": 1,
      "id": "63be504f",
      "metadata": {
        "id": "63be504f"
      },
      "outputs": [],
      "source": [
        "def greet():\n",
        "    print(\"Hello, welcome to Python Day 4!\")"
      ]
    },
    {
      "cell_type": "markdown",
      "id": "2d57c9bb",
      "metadata": {
        "id": "2d57c9bb"
      },
      "source": [
        "## Function Syntax"
      ]
    },
    {
      "cell_type": "code",
      "execution_count": 2,
      "id": "7e9d2085",
      "metadata": {
        "id": "7e9d2085"
      },
      "outputs": [],
      "source": [
        "# Syntax: def function_name(parameters):\n",
        "#             # function body\n",
        "#             return value (optional)\n",
        "\n",
        "def add(a, b):\n",
        "    return a + b"
      ]
    },
    {
      "cell_type": "markdown",
      "id": "564dd8b4",
      "metadata": {
        "id": "564dd8b4"
      },
      "source": [
        "## Calling a Function"
      ]
    },
    {
      "cell_type": "code",
      "execution_count": 3,
      "id": "85c3b710",
      "metadata": {
        "colab": {
          "base_uri": "https://localhost:8080/"
        },
        "id": "85c3b710",
        "outputId": "834805d8-f44b-4033-85a9-c5cf0fcc983f"
      },
      "outputs": [
        {
          "output_type": "stream",
          "name": "stdout",
          "text": [
            "Hello, welcome to Python Day 4!\n",
            "15\n"
          ]
        }
      ],
      "source": [
        "greet()\n",
        "result = add(10, 5)\n",
        "print(result)"
      ]
    },
    {
      "cell_type": "markdown",
      "id": "8782f86d",
      "metadata": {
        "id": "8782f86d"
      },
      "source": [
        "## Function Parameters / Arguments"
      ]
    },
    {
      "cell_type": "code",
      "execution_count": 4,
      "id": "91f83127",
      "metadata": {
        "colab": {
          "base_uri": "https://localhost:8080/"
        },
        "id": "91f83127",
        "outputId": "e34752f2-8372-46b7-94cc-8ea77cf81449"
      },
      "outputs": [
        {
          "output_type": "stream",
          "name": "stdout",
          "text": [
            "My name is Ahmad Sana Farooq and I am 25 years old.\n"
          ]
        }
      ],
      "source": [
        "def introduce(name, age):\n",
        "    print(f\"My name is {name} and I am {age} years old.\")\n",
        "\n",
        "introduce(\"Ahmad Sana Farooq\", 25)"
      ]
    },
    {
      "cell_type": "markdown",
      "id": "49ee64ca",
      "metadata": {
        "id": "49ee64ca"
      },
      "source": [
        "## Return Statement"
      ]
    },
    {
      "cell_type": "code",
      "execution_count": 5,
      "id": "3e2c8a76",
      "metadata": {
        "colab": {
          "base_uri": "https://localhost:8080/"
        },
        "id": "3e2c8a76",
        "outputId": "302aec22-994d-47b9-c560-9bbd6d9bad6c"
      },
      "outputs": [
        {
          "output_type": "stream",
          "name": "stdout",
          "text": [
            "36\n"
          ]
        }
      ],
      "source": [
        "def square(x):\n",
        "    return x * x\n",
        "\n",
        "print(square(6))"
      ]
    },
    {
      "cell_type": "markdown",
      "id": "273c82f1",
      "metadata": {
        "id": "273c82f1"
      },
      "source": [
        "## Scope and Lifetime of Variables"
      ]
    },
    {
      "cell_type": "code",
      "execution_count": 6,
      "id": "21de2f4b",
      "metadata": {
        "colab": {
          "base_uri": "https://localhost:8080/"
        },
        "id": "21de2f4b",
        "outputId": "04c726e1-9e8e-4cd6-e6c8-3e0b368a574e"
      },
      "outputs": [
        {
          "output_type": "stream",
          "name": "stdout",
          "text": [
            "Inside function: 10\n"
          ]
        }
      ],
      "source": [
        "def test_scope():\n",
        "    x = 10\n",
        "    print(\"Inside function:\", x)\n",
        "\n",
        "test_scope()"
      ]
    },
    {
      "cell_type": "markdown",
      "id": "5f3ae7d1",
      "metadata": {
        "id": "5f3ae7d1"
      },
      "source": [
        "## Local and Global Variables"
      ]
    },
    {
      "cell_type": "code",
      "execution_count": 7,
      "id": "4379c1b5",
      "metadata": {
        "colab": {
          "base_uri": "https://localhost:8080/"
        },
        "id": "4379c1b5",
        "outputId": "3e482b77-2838-46ea-dda7-6f9b8335695a"
      },
      "outputs": [
        {
          "output_type": "stream",
          "name": "stdout",
          "text": [
            "I'm a global variable\n",
            "I'm a local variable\n"
          ]
        }
      ],
      "source": [
        "global_var = \"I'm a global variable\"\n",
        "\n",
        "def check_scope():\n",
        "    local_var = \"I'm a local variable\"\n",
        "    print(global_var)\n",
        "    print(local_var)\n",
        "\n",
        "check_scope()"
      ]
    },
    {
      "cell_type": "markdown",
      "id": "584ab93a",
      "metadata": {
        "id": "584ab93a"
      },
      "source": [
        "## User-defined Functions"
      ]
    },
    {
      "cell_type": "code",
      "execution_count": 8,
      "id": "4cbc0715",
      "metadata": {
        "colab": {
          "base_uri": "https://localhost:8080/"
        },
        "id": "4cbc0715",
        "outputId": "08040399-051f-4652-bd1f-58c41c7581eb"
      },
      "outputs": [
        {
          "output_type": "stream",
          "name": "stdout",
          "text": [
            "20\n"
          ]
        }
      ],
      "source": [
        "def multiply(x, y):\n",
        "    return x * y\n",
        "\n",
        "print(multiply(4, 5))"
      ]
    },
    {
      "cell_type": "markdown",
      "id": "5a6a4787",
      "metadata": {
        "id": "5a6a4787"
      },
      "source": [
        "##  Default Arguments"
      ]
    },
    {
      "cell_type": "code",
      "execution_count": 10,
      "id": "44a23f10",
      "metadata": {
        "colab": {
          "base_uri": "https://localhost:8080/"
        },
        "id": "44a23f10",
        "outputId": "1f08a56f-0213-472b-eb31-c320ba9c057e"
      },
      "outputs": [
        {
          "output_type": "stream",
          "name": "stdout",
          "text": [
            "Hello, Ahmad Sana Farooq!\n",
            "Hello, Guest!\n"
          ]
        }
      ],
      "source": [
        "def greet_user(name=\"Guest\"):\n",
        "    print(f\"Hello, {name}!\")\n",
        "\n",
        "greet_user(\"Ahmad Sana Farooq\")\n",
        "greet_user()"
      ]
    },
    {
      "cell_type": "markdown",
      "id": "00bf5d45",
      "metadata": {
        "id": "00bf5d45"
      },
      "source": [
        "## Keyword Arguments"
      ]
    },
    {
      "cell_type": "code",
      "execution_count": 12,
      "id": "062615dc",
      "metadata": {
        "colab": {
          "base_uri": "https://localhost:8080/"
        },
        "id": "062615dc",
        "outputId": "46c2e30a-83d3-409c-d1d5-f2c97efcf4a0"
      },
      "outputs": [
        {
          "output_type": "stream",
          "name": "stdout",
          "text": [
            "Name: Ahmad Sana Farooq, Age: 20, Course: AI\n"
          ]
        }
      ],
      "source": [
        "def student_info(name, age, course):\n",
        "    print(f\"Name: {name}, Age: {age}, Course: {course}\")\n",
        "\n",
        "student_info(age=20, name=\"Ahmad Sana Farooq\", course=\"AI\")"
      ]
    },
    {
      "cell_type": "markdown",
      "id": "554ae409",
      "metadata": {
        "id": "554ae409"
      },
      "source": [
        "## Variable-length Arguments"
      ]
    },
    {
      "cell_type": "code",
      "execution_count": 15,
      "id": "aa943f7c",
      "metadata": {
        "colab": {
          "base_uri": "https://localhost:8080/"
        },
        "id": "aa943f7c",
        "outputId": "181070cc-2749-4cbd-9ae5-162379a4dd55"
      },
      "outputs": [
        {
          "output_type": "stream",
          "name": "stdout",
          "text": [
            "Marks received: (90, 85, 88)\n",
            "Total = 263\n",
            "name: Ahmad sana farooq\n",
            "age: 21\n",
            "course: Data Science\n"
          ]
        }
      ],
      "source": [
        "# ➤ Using *args\n",
        "def total_marks(*marks):\n",
        "    print(f\"Marks received: {marks}\")\n",
        "    print(f\"Total = {sum(marks)}\")\n",
        "\n",
        "total_marks(90, 85, 88)\n",
        "\n",
        "# ➤ Using **kwargs\n",
        "def student_profile(**info):\n",
        "    for key, value in info.items():\n",
        "        print(f\"{key}: {value}\")\n",
        "\n",
        "student_profile(name=\"Ahmad sana farooq\", age=21, course=\"Data Science\")"
      ]
    },
    {
      "cell_type": "markdown",
      "id": "e62a3267",
      "metadata": {
        "id": "e62a3267"
      },
      "source": [
        "✅ Summary:\n",
        "\n",
        "* Function Definition: Use def to define reusable blocks of code.\n",
        "\n",
        "* Syntax: Functions follow indentation and the format def name():.\n",
        "\n",
        "* Calling a Function: Call a function using its name followed by parentheses ().\n",
        "\n",
        "* Parameters / Arguments: Functions can take input via parameters — either positional or named.\n",
        "\n",
        "* Return Statement: Use return to send output back to the function caller.\n",
        "\n",
        "* Scope and Lifetime: Variables inside functions have local scope and exist only during function execution.\n",
        "\n",
        "* Local vs Global Variables:\n",
        "\n",
        "  - Local: Declared inside a function, only accessible there.\n",
        "\n",
        "  - Global: Declared outside functions, accessible everywhere.\n",
        "\n",
        "* User-defined Functions: Custom functions created using the def keyword.\n",
        "\n",
        "* Default Arguments: Allow you to set default values for parameters if no value is passed.\n",
        "\n",
        "* Keyword Arguments: Allow calling a function with named parameters, regardless of order.\n",
        "\n",
        "* Variable-length Arguments (*args): Used to accept an arbitrary number of positional arguments.\n",
        "\n",
        "* Variable-length Keyword Arguments (**kwargs): Used to accept an arbitrary number of keyword arguments."
      ]
    }
  ],
  "metadata": {
    "colab": {
      "provenance": []
    },
    "language_info": {
      "name": "python"
    },
    "kernelspec": {
      "name": "python3",
      "display_name": "Python 3"
    }
  },
  "nbformat": 4,
  "nbformat_minor": 5
}