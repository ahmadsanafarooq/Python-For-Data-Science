{
  "cells": [
    {
      "cell_type": "markdown",
      "source": [
        "# DataDrift with Us - Python `List-Tuple-Set` Assignment"
      ],
      "metadata": {
        "id": "GSmETJTxtwbu"
      },
      "id": "GSmETJTxtwbu"
    },
    {
      "cell_type": "markdown",
      "id": "e52116d3",
      "metadata": {
        "id": "e52116d3"
      },
      "source": [
        "## List Problems"
      ]
    },
    {
      "cell_type": "markdown",
      "id": "746a414e",
      "metadata": {
        "id": "746a414e"
      },
      "source": [
        "**Q: Create a list of 5 integers and print it.**"
      ]
    },
    {
      "cell_type": "code",
      "execution_count": 1,
      "id": "c5e4875f",
      "metadata": {
        "colab": {
          "base_uri": "https://localhost:8080/"
        },
        "id": "c5e4875f",
        "outputId": "068feba2-9400-49a9-df38-8743829ad368"
      },
      "outputs": [
        {
          "output_type": "stream",
          "name": "stdout",
          "text": [
            "[1, 2, 3, 4, 5]\n"
          ]
        }
      ],
      "source": [
        "lst = [1, 2, 3, 4, 5]\n",
        "print(lst)"
      ]
    },
    {
      "cell_type": "markdown",
      "id": "2c3538e0",
      "metadata": {
        "id": "2c3538e0"
      },
      "source": [
        "**Q: Access the third element of the list [10, 20, 30, 40, 50].**"
      ]
    },
    {
      "cell_type": "code",
      "execution_count": 2,
      "id": "3548a0b7",
      "metadata": {
        "colab": {
          "base_uri": "https://localhost:8080/"
        },
        "id": "3548a0b7",
        "outputId": "6ed1cad8-eb83-45c3-ed7f-4673d7de242c"
      },
      "outputs": [
        {
          "output_type": "stream",
          "name": "stdout",
          "text": [
            "30\n"
          ]
        }
      ],
      "source": [
        "lst = [10, 20, 30, 40, 50]\n",
        "print(lst[2])"
      ]
    },
    {
      "cell_type": "markdown",
      "id": "b29adaca",
      "metadata": {
        "id": "b29adaca"
      },
      "source": [
        "**Q: Change the second item in a list [1, 2, 3, 4] to 10.**"
      ]
    },
    {
      "cell_type": "code",
      "execution_count": 3,
      "id": "dea21b1b",
      "metadata": {
        "colab": {
          "base_uri": "https://localhost:8080/"
        },
        "id": "dea21b1b",
        "outputId": "33e61462-491c-4c81-d96d-f3661c0536c8"
      },
      "outputs": [
        {
          "output_type": "stream",
          "name": "stdout",
          "text": [
            "[1, 10, 3, 4]\n"
          ]
        }
      ],
      "source": [
        "lst = [1, 2, 3, 4]\n",
        "lst[1] = 10\n",
        "print(lst)"
      ]
    },
    {
      "cell_type": "markdown",
      "id": "2a139095",
      "metadata": {
        "id": "2a139095"
      },
      "source": [
        "**Q: Append the number 99 to a list [1, 2, 3].**"
      ]
    },
    {
      "cell_type": "code",
      "execution_count": 4,
      "id": "3589359c",
      "metadata": {
        "colab": {
          "base_uri": "https://localhost:8080/"
        },
        "id": "3589359c",
        "outputId": "b75ee25c-40f1-438f-c658-d458b9fca29e"
      },
      "outputs": [
        {
          "output_type": "stream",
          "name": "stdout",
          "text": [
            "[1, 2, 3, 99]\n"
          ]
        }
      ],
      "source": [
        "lst = [1, 2, 3]\n",
        "lst.append(99)\n",
        "print(lst)"
      ]
    },
    {
      "cell_type": "markdown",
      "id": "a9df7751",
      "metadata": {
        "id": "a9df7751"
      },
      "source": [
        "**Q: Insert the number 25 at index 2 in the list [10, 20, 30, 40].**"
      ]
    },
    {
      "cell_type": "code",
      "execution_count": 5,
      "id": "4092a864",
      "metadata": {
        "colab": {
          "base_uri": "https://localhost:8080/"
        },
        "id": "4092a864",
        "outputId": "29be3823-6c40-4962-d332-8adbbc98ae2e"
      },
      "outputs": [
        {
          "output_type": "stream",
          "name": "stdout",
          "text": [
            "[10, 20, 25, 30, 40]\n"
          ]
        }
      ],
      "source": [
        "lst = [10, 20, 30, 40]\n",
        "lst.insert(2, 25)\n",
        "print(lst)"
      ]
    },
    {
      "cell_type": "markdown",
      "id": "4ec8cd68",
      "metadata": {
        "id": "4ec8cd68"
      },
      "source": [
        "**Q: Remove the value 3 from the list [1, 2, 3, 4, 5].**"
      ]
    },
    {
      "cell_type": "code",
      "execution_count": 6,
      "id": "8c5cc047",
      "metadata": {
        "colab": {
          "base_uri": "https://localhost:8080/"
        },
        "id": "8c5cc047",
        "outputId": "75e7fa9d-68a4-4dd9-bc91-54f2c4624d16"
      },
      "outputs": [
        {
          "output_type": "stream",
          "name": "stdout",
          "text": [
            "[1, 2, 4, 5]\n"
          ]
        }
      ],
      "source": [
        "lst = [1, 2, 3, 4, 5]\n",
        "lst.remove(3)\n",
        "print(lst)"
      ]
    },
    {
      "cell_type": "markdown",
      "id": "723a2768",
      "metadata": {
        "id": "723a2768"
      },
      "source": [
        "**Q: Print the length of the list [5, 10, 15, 20].**"
      ]
    },
    {
      "cell_type": "code",
      "execution_count": 7,
      "id": "65635c18",
      "metadata": {
        "colab": {
          "base_uri": "https://localhost:8080/"
        },
        "id": "65635c18",
        "outputId": "3f880ddf-ef28-46e0-ed2c-2e1f20d19d0b"
      },
      "outputs": [
        {
          "output_type": "stream",
          "name": "stdout",
          "text": [
            "4\n"
          ]
        }
      ],
      "source": [
        "lst = [5, 10, 15, 20]\n",
        "print(len(lst))"
      ]
    },
    {
      "cell_type": "markdown",
      "id": "81374b52",
      "metadata": {
        "id": "81374b52"
      },
      "source": [
        "**Q: Sort the list [5, 2, 9, 1] in ascending order.**"
      ]
    },
    {
      "cell_type": "code",
      "execution_count": 8,
      "id": "5d41c30f",
      "metadata": {
        "colab": {
          "base_uri": "https://localhost:8080/"
        },
        "id": "5d41c30f",
        "outputId": "968285a1-542a-4b28-ea3e-17a46e980bba"
      },
      "outputs": [
        {
          "output_type": "stream",
          "name": "stdout",
          "text": [
            "[1, 2, 5, 9]\n"
          ]
        }
      ],
      "source": [
        "lst = [5, 2, 9, 1]\n",
        "lst.sort()\n",
        "print(lst)"
      ]
    },
    {
      "cell_type": "markdown",
      "id": "749708f0",
      "metadata": {
        "id": "749708f0"
      },
      "source": [
        "**Q: Reverse the list [1, 2, 3, 4].**"
      ]
    },
    {
      "cell_type": "code",
      "execution_count": 9,
      "id": "550d8107",
      "metadata": {
        "colab": {
          "base_uri": "https://localhost:8080/"
        },
        "id": "550d8107",
        "outputId": "743f20c5-ac4b-4e7b-b58e-68994be98500"
      },
      "outputs": [
        {
          "output_type": "stream",
          "name": "stdout",
          "text": [
            "[4, 3, 2, 1]\n"
          ]
        }
      ],
      "source": [
        "lst = [1, 2, 3, 4]\n",
        "lst.reverse()\n",
        "print(lst)"
      ]
    },
    {
      "cell_type": "markdown",
      "id": "75190862",
      "metadata": {
        "id": "75190862"
      },
      "source": [
        "**Q: Sum all the numbers in a list [10, 20, 30, 40].**"
      ]
    },
    {
      "cell_type": "code",
      "execution_count": 10,
      "id": "fe754fcb",
      "metadata": {
        "colab": {
          "base_uri": "https://localhost:8080/"
        },
        "id": "fe754fcb",
        "outputId": "659118ac-0bcf-4f30-e6bc-c01cc8f14ca3"
      },
      "outputs": [
        {
          "output_type": "stream",
          "name": "stdout",
          "text": [
            "100\n"
          ]
        }
      ],
      "source": [
        "lst = [10, 20, 30, 40]\n",
        "print(sum(lst))"
      ]
    },
    {
      "cell_type": "markdown",
      "id": "308b3c7d",
      "metadata": {
        "id": "308b3c7d"
      },
      "source": [
        "## Tuple Problems"
      ]
    },
    {
      "cell_type": "markdown",
      "id": "ef8dd1d9",
      "metadata": {
        "id": "ef8dd1d9"
      },
      "source": [
        "**Q: Create a tuple of 3 colors and print it.**"
      ]
    },
    {
      "cell_type": "code",
      "execution_count": 11,
      "id": "f1de7ca2",
      "metadata": {
        "colab": {
          "base_uri": "https://localhost:8080/"
        },
        "id": "f1de7ca2",
        "outputId": "1726267f-8955-47d8-87d5-b4affa32d2a6"
      },
      "outputs": [
        {
          "output_type": "stream",
          "name": "stdout",
          "text": [
            "('red', 'green', 'blue')\n"
          ]
        }
      ],
      "source": [
        "colors = ('red', 'green', 'blue')\n",
        "print(colors)"
      ]
    },
    {
      "cell_type": "markdown",
      "id": "f75d4e9e",
      "metadata": {
        "id": "f75d4e9e"
      },
      "source": [
        "**Q: Access the second item in the tuple ('a', 'b', 'c').**"
      ]
    },
    {
      "cell_type": "code",
      "execution_count": 12,
      "id": "bff8c21f",
      "metadata": {
        "colab": {
          "base_uri": "https://localhost:8080/"
        },
        "id": "bff8c21f",
        "outputId": "73bf4651-32ed-4eeb-d30a-a7a34a64237f"
      },
      "outputs": [
        {
          "output_type": "stream",
          "name": "stdout",
          "text": [
            "b\n"
          ]
        }
      ],
      "source": [
        "t = ('a', 'b', 'c')\n",
        "print(t[1])"
      ]
    },
    {
      "cell_type": "markdown",
      "id": "533a01a2",
      "metadata": {
        "id": "533a01a2"
      },
      "source": [
        "**Q: Create a tuple with one item (value 5) and print its type.**"
      ]
    },
    {
      "cell_type": "code",
      "execution_count": 13,
      "id": "2eb1d366",
      "metadata": {
        "colab": {
          "base_uri": "https://localhost:8080/"
        },
        "id": "2eb1d366",
        "outputId": "bb6f7b1b-46a4-4a77-d0e2-787fba4b817b"
      },
      "outputs": [
        {
          "output_type": "stream",
          "name": "stdout",
          "text": [
            "<class 'tuple'>\n"
          ]
        }
      ],
      "source": [
        "t = (5,)\n",
        "print(type(t))"
      ]
    },
    {
      "cell_type": "markdown",
      "id": "6874d9ad",
      "metadata": {
        "id": "6874d9ad"
      },
      "source": [
        "**Q: Convert the tuple (1, 2, 3) to a list.**"
      ]
    },
    {
      "cell_type": "code",
      "execution_count": 14,
      "id": "c3b0843e",
      "metadata": {
        "colab": {
          "base_uri": "https://localhost:8080/"
        },
        "id": "c3b0843e",
        "outputId": "464a6ce0-8e7d-4ce7-b7fe-2e0ec903f338"
      },
      "outputs": [
        {
          "output_type": "stream",
          "name": "stdout",
          "text": [
            "[1, 2, 3]\n"
          ]
        }
      ],
      "source": [
        "t = (1, 2, 3)\n",
        "lst = list(t)\n",
        "print(lst)"
      ]
    },
    {
      "cell_type": "markdown",
      "id": "b1185c1a",
      "metadata": {
        "id": "b1185c1a"
      },
      "source": [
        "**Q: Check if \"apple\" exists in the tuple (\"apple\", \"banana\", \"cherry\").**"
      ]
    },
    {
      "cell_type": "code",
      "execution_count": 15,
      "id": "904dd64d",
      "metadata": {
        "colab": {
          "base_uri": "https://localhost:8080/"
        },
        "id": "904dd64d",
        "outputId": "524057a7-dce4-4e35-d38d-ecdf0881590f"
      },
      "outputs": [
        {
          "output_type": "stream",
          "name": "stdout",
          "text": [
            "True\n"
          ]
        }
      ],
      "source": [
        "t = (\"apple\", \"banana\", \"cherry\")\n",
        "print(\"apple\" in t)"
      ]
    },
    {
      "cell_type": "markdown",
      "id": "5f9a3053",
      "metadata": {
        "id": "5f9a3053"
      },
      "source": [
        "**Q: Slice the tuple (10, 20, 30, 40, 50) to get (20, 30).**"
      ]
    },
    {
      "cell_type": "code",
      "execution_count": 16,
      "id": "49f6ab24",
      "metadata": {
        "colab": {
          "base_uri": "https://localhost:8080/"
        },
        "id": "49f6ab24",
        "outputId": "cf480b02-9421-4016-c796-89e5d15c4fec"
      },
      "outputs": [
        {
          "output_type": "stream",
          "name": "stdout",
          "text": [
            "(20, 30)\n"
          ]
        }
      ],
      "source": [
        "t = (10, 20, 30, 40, 50)\n",
        "print(t[1:3])"
      ]
    },
    {
      "cell_type": "markdown",
      "id": "ea726d47",
      "metadata": {
        "id": "ea726d47"
      },
      "source": [
        "**Q: Unpack the tuple (1, 2, 3) into three variables and print them.**"
      ]
    },
    {
      "cell_type": "code",
      "execution_count": 17,
      "id": "83c822b8",
      "metadata": {
        "colab": {
          "base_uri": "https://localhost:8080/"
        },
        "id": "83c822b8",
        "outputId": "8957eacc-3829-4c93-c7e4-f69d5f892be3"
      },
      "outputs": [
        {
          "output_type": "stream",
          "name": "stdout",
          "text": [
            "1 2 3\n"
          ]
        }
      ],
      "source": [
        "a, b, c = (1, 2, 3)\n",
        "print(a, b, c)"
      ]
    },
    {
      "cell_type": "markdown",
      "id": "14fb40da",
      "metadata": {
        "id": "14fb40da"
      },
      "source": [
        "**Q: Loop through the tuple (\"cat\", \"dog\", \"mouse\") and print each item.**"
      ]
    },
    {
      "cell_type": "code",
      "execution_count": 18,
      "id": "59e358b1",
      "metadata": {
        "colab": {
          "base_uri": "https://localhost:8080/"
        },
        "id": "59e358b1",
        "outputId": "17e319e2-51dc-4dfa-d28c-69b731cb08ea"
      },
      "outputs": [
        {
          "output_type": "stream",
          "name": "stdout",
          "text": [
            "cat\n",
            "dog\n",
            "mouse\n"
          ]
        }
      ],
      "source": [
        "t = (\"cat\", \"dog\", \"mouse\")\n",
        "for item in t:\n",
        "    print(item)"
      ]
    },
    {
      "cell_type": "markdown",
      "id": "c2367f7f",
      "metadata": {
        "id": "c2367f7f"
      },
      "source": [
        "**Q: Concatenate two tuples: (1, 2) and (3, 4).**"
      ]
    },
    {
      "cell_type": "code",
      "execution_count": 19,
      "id": "11be3b22",
      "metadata": {
        "colab": {
          "base_uri": "https://localhost:8080/"
        },
        "id": "11be3b22",
        "outputId": "29000da8-9682-47b2-aabb-2813c24527b8"
      },
      "outputs": [
        {
          "output_type": "stream",
          "name": "stdout",
          "text": [
            "(1, 2, 3, 4)\n"
          ]
        }
      ],
      "source": [
        "t1 = (1, 2)\n",
        "t2 = (3, 4)\n",
        "print(t1 + t2)"
      ]
    },
    {
      "cell_type": "markdown",
      "id": "d80fb4bf",
      "metadata": {
        "id": "d80fb4bf"
      },
      "source": [
        "**Q: Count how many times 2 appears in the tuple (1, 2, 3, 2, 4, 2).**"
      ]
    },
    {
      "cell_type": "code",
      "execution_count": 20,
      "id": "c99324cf",
      "metadata": {
        "colab": {
          "base_uri": "https://localhost:8080/"
        },
        "id": "c99324cf",
        "outputId": "56c7d52c-b8f2-491b-b507-a33a122fb811"
      },
      "outputs": [
        {
          "output_type": "stream",
          "name": "stdout",
          "text": [
            "3\n"
          ]
        }
      ],
      "source": [
        "t = (1, 2, 3, 2, 4, 2)\n",
        "print(t.count(2))"
      ]
    },
    {
      "cell_type": "markdown",
      "id": "161b3373",
      "metadata": {
        "id": "161b3373"
      },
      "source": [
        "## Set Problems"
      ]
    },
    {
      "cell_type": "markdown",
      "id": "63b57c52",
      "metadata": {
        "id": "63b57c52"
      },
      "source": [
        "**Q: Create a set of 4 numbers and print it.**"
      ]
    },
    {
      "cell_type": "code",
      "execution_count": 21,
      "id": "afe31a35",
      "metadata": {
        "colab": {
          "base_uri": "https://localhost:8080/"
        },
        "id": "afe31a35",
        "outputId": "54c4d773-2638-42ed-ebf3-253660a0f8af"
      },
      "outputs": [
        {
          "output_type": "stream",
          "name": "stdout",
          "text": [
            "{1, 2, 3, 4}\n"
          ]
        }
      ],
      "source": [
        "s = {1, 2, 3, 4}\n",
        "print(s)"
      ]
    },
    {
      "cell_type": "markdown",
      "id": "58399b8a",
      "metadata": {
        "id": "58399b8a"
      },
      "source": [
        "**Q: Add the number 10 to the set {1, 2, 3}.**"
      ]
    },
    {
      "cell_type": "code",
      "execution_count": 22,
      "id": "1192239f",
      "metadata": {
        "colab": {
          "base_uri": "https://localhost:8080/"
        },
        "id": "1192239f",
        "outputId": "0bcaa848-6630-4bf6-bca9-a34b195cf11f"
      },
      "outputs": [
        {
          "output_type": "stream",
          "name": "stdout",
          "text": [
            "{10, 1, 2, 3}\n"
          ]
        }
      ],
      "source": [
        "s = {1, 2, 3}\n",
        "s.add(10)\n",
        "print(s)"
      ]
    },
    {
      "cell_type": "markdown",
      "id": "77bd23ee",
      "metadata": {
        "id": "77bd23ee"
      },
      "source": [
        "**Q: Remove the item 3 from the set {1, 2, 3, 4}.**"
      ]
    },
    {
      "cell_type": "code",
      "execution_count": 23,
      "id": "61c98765",
      "metadata": {
        "colab": {
          "base_uri": "https://localhost:8080/"
        },
        "id": "61c98765",
        "outputId": "33ebb5e9-3188-4148-ab49-b815f139844b"
      },
      "outputs": [
        {
          "output_type": "stream",
          "name": "stdout",
          "text": [
            "{1, 2, 4}\n"
          ]
        }
      ],
      "source": [
        "s = {1, 2, 3, 4}\n",
        "s.remove(3)\n",
        "print(s)"
      ]
    },
    {
      "cell_type": "markdown",
      "id": "986ec2bb",
      "metadata": {
        "id": "986ec2bb"
      },
      "source": [
        "**Q: Find the union of {1, 2, 3} and {3, 4, 5}.**"
      ]
    },
    {
      "cell_type": "code",
      "execution_count": 24,
      "id": "015efe14",
      "metadata": {
        "colab": {
          "base_uri": "https://localhost:8080/"
        },
        "id": "015efe14",
        "outputId": "adc6420c-690d-4fee-9f6a-40509e15129d"
      },
      "outputs": [
        {
          "output_type": "stream",
          "name": "stdout",
          "text": [
            "{1, 2, 3, 4, 5}\n"
          ]
        }
      ],
      "source": [
        "a = {1, 2, 3}\n",
        "b = {3, 4, 5}\n",
        "print(a | b)"
      ]
    },
    {
      "cell_type": "markdown",
      "id": "7a9e24bd",
      "metadata": {
        "id": "7a9e24bd"
      },
      "source": [
        "**Q: Find the intersection of {1, 2, 3} and {2, 3, 4}.**"
      ]
    },
    {
      "cell_type": "code",
      "execution_count": 25,
      "id": "59bc7443",
      "metadata": {
        "colab": {
          "base_uri": "https://localhost:8080/"
        },
        "id": "59bc7443",
        "outputId": "19d033d4-a97a-463c-9fce-25410b701746"
      },
      "outputs": [
        {
          "output_type": "stream",
          "name": "stdout",
          "text": [
            "{2, 3}\n"
          ]
        }
      ],
      "source": [
        "a = {1, 2, 3}\n",
        "b = {2, 3, 4}\n",
        "print(a & b)"
      ]
    },
    {
      "cell_type": "markdown",
      "id": "71088a93",
      "metadata": {
        "id": "71088a93"
      },
      "source": [
        "**Q: Check if {1, 2} is a subset of {1, 2, 3}.**"
      ]
    },
    {
      "cell_type": "code",
      "execution_count": 26,
      "id": "b21fc8fa",
      "metadata": {
        "colab": {
          "base_uri": "https://localhost:8080/"
        },
        "id": "b21fc8fa",
        "outputId": "ae3fa16f-4886-4f7f-8671-fe4885ce8d38"
      },
      "outputs": [
        {
          "output_type": "stream",
          "name": "stdout",
          "text": [
            "True\n"
          ]
        }
      ],
      "source": [
        "a = {1, 2}\n",
        "b = {1, 2, 3}\n",
        "print(a.issubset(b))"
      ]
    },
    {
      "cell_type": "markdown",
      "id": "dc7c7a4a",
      "metadata": {
        "id": "dc7c7a4a"
      },
      "source": [
        "**Q: Check if 5 is in the set {3, 4, 5}.**"
      ]
    },
    {
      "cell_type": "code",
      "execution_count": 27,
      "id": "c9a89787",
      "metadata": {
        "colab": {
          "base_uri": "https://localhost:8080/"
        },
        "id": "c9a89787",
        "outputId": "9ef03743-4a33-44a9-ce29-d91354a54f0b"
      },
      "outputs": [
        {
          "output_type": "stream",
          "name": "stdout",
          "text": [
            "True\n"
          ]
        }
      ],
      "source": [
        "s = {3, 4, 5}\n",
        "print(5 in s)"
      ]
    },
    {
      "cell_type": "markdown",
      "id": "b8cd65de",
      "metadata": {
        "id": "b8cd65de"
      },
      "source": [
        "**Q: Create a set from the list [1, 2, 2, 3, 3, 3] and print it.**"
      ]
    },
    {
      "cell_type": "code",
      "execution_count": 28,
      "id": "790c221e",
      "metadata": {
        "colab": {
          "base_uri": "https://localhost:8080/"
        },
        "id": "790c221e",
        "outputId": "159b589e-f1c4-43b1-adde-4536e6033b06"
      },
      "outputs": [
        {
          "output_type": "stream",
          "name": "stdout",
          "text": [
            "{1, 2, 3}\n"
          ]
        }
      ],
      "source": [
        "lst = [1, 2, 2, 3, 3, 3]\n",
        "s = set(lst)\n",
        "print(s)"
      ]
    },
    {
      "cell_type": "markdown",
      "id": "af70c36b",
      "metadata": {
        "id": "af70c36b"
      },
      "source": [
        "**Q: Clear all items from a set {1, 2, 3}.**"
      ]
    },
    {
      "cell_type": "code",
      "execution_count": 29,
      "id": "c7a8fd58",
      "metadata": {
        "colab": {
          "base_uri": "https://localhost:8080/"
        },
        "id": "c7a8fd58",
        "outputId": "771876ae-4e2c-477b-eeeb-6d5b209da836"
      },
      "outputs": [
        {
          "output_type": "stream",
          "name": "stdout",
          "text": [
            "set()\n"
          ]
        }
      ],
      "source": [
        "s = {1, 2, 3}\n",
        "s.clear()\n",
        "print(s)"
      ]
    },
    {
      "cell_type": "markdown",
      "id": "cdadd55e",
      "metadata": {
        "id": "cdadd55e"
      },
      "source": [
        "**Q: Use a loop to print all items in the set {10, 20, 30}.**"
      ]
    },
    {
      "cell_type": "code",
      "execution_count": 30,
      "id": "c23a2130",
      "metadata": {
        "colab": {
          "base_uri": "https://localhost:8080/"
        },
        "id": "c23a2130",
        "outputId": "fe6bb252-bd9b-49a1-dc75-4547c8d3059f"
      },
      "outputs": [
        {
          "output_type": "stream",
          "name": "stdout",
          "text": [
            "10\n",
            "20\n",
            "30\n"
          ]
        }
      ],
      "source": [
        "s = {10, 20, 30}\n",
        "for item in s:\n",
        "    print(item)"
      ]
    }
  ],
  "metadata": {
    "kernelspec": {
      "display_name": "Python 3",
      "name": "python3"
    },
    "language_info": {
      "name": "python",
      "version": "3.11"
    },
    "colab": {
      "provenance": []
    }
  },
  "nbformat": 4,
  "nbformat_minor": 5
}