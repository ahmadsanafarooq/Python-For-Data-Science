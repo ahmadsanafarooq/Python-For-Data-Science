{
  "cells": [
    {
      "cell_type": "markdown",
      "source": [
        "# DataDrift with Us - Python Day 8"
      ],
      "metadata": {
        "id": "gz8PEPKgsadl"
      },
      "id": "gz8PEPKgsadl"
    },
    {
      "cell_type": "markdown",
      "id": "65917fd3",
      "metadata": {
        "id": "65917fd3"
      },
      "source": [
        "**Dictionaries are used to store data values in key:value pairs.**\n",
        "\n",
        "- Dictionaries are mutable, which means they can be modified after creation. They are also dynamic, meaning you can add or remove items after the dictionary is created.\n",
        "\n",
        "- A dictionary is created by using curly brackets containing key-value pairs."
      ]
    },
    {
      "cell_type": "markdown",
      "id": "10cd00a5",
      "metadata": {
        "id": "10cd00a5"
      },
      "source": [
        "- Use curly braces {}\n",
        "- use the dict() function"
      ]
    },
    {
      "cell_type": "markdown",
      "id": "72124998",
      "metadata": {
        "id": "72124998"
      },
      "source": [
        "`Ordered or Unordered`<br>\n",
        "- Ordered: The elements are arranged in a specific order, and the order matters.\n",
        "- Unordered: The elements are not arranged in a specific order, and the order does not matter.\n",
        "- Example: A set of books on a shelf is an unordered collection, while a list of books in a reading order is an ordered collection.  \n",
        "  \n",
        "`Changeable`\n",
        "- Changeable: The elements can be added, removed, or modified.\n",
        "\n",
        "`Duplication Not Allowed`\n",
        "- Duplication Not Allowed: Each element in the collection must be unique.\n",
        "- Example: A set of unique names, a list of unique phone numbers, or a collection of unique IDs."
      ]
    },
    {
      "cell_type": "code",
      "execution_count": null,
      "id": "768610cf",
      "metadata": {
        "id": "768610cf",
        "outputId": "cd1c5881-bfac-4b7c-8739-b656218814a6"
      },
      "outputs": [
        {
          "name": "stdout",
          "output_type": "stream",
          "text": [
            "{'name': 'ahmad', 'age': 25, 'city': 'Faisalabad'}\n"
          ]
        }
      ],
      "source": [
        "dict={\n",
        "    \"name\":\"ahmad\",\n",
        "    \"age\":25,\n",
        "    \"city\":\"Faisalabad\"\n",
        "}\n",
        "\n",
        "print(dict)"
      ]
    },
    {
      "cell_type": "code",
      "execution_count": null,
      "id": "0ca53c80",
      "metadata": {
        "id": "0ca53c80",
        "outputId": "2bf69312-b31e-4936-9b22-decbedae35cc"
      },
      "outputs": [
        {
          "name": "stdout",
          "output_type": "stream",
          "text": [
            "ahmad\n"
          ]
        }
      ],
      "source": [
        "a=dict.get(\"name\")\n",
        "print(a)"
      ]
    },
    {
      "cell_type": "markdown",
      "id": "73c500be",
      "metadata": {
        "id": "73c500be"
      },
      "source": [
        "**Methods in Dictionary**<br>\n",
        "- `clear()` : Removes all elements from the dictionary.\n",
        "- `copy()` : Returns a copy of the dictionary.\n",
        "- `fromkeys()` : Returns a new dictionary with keys from an iterable and values set to some default value.\n",
        "- `get()` : Returns the value for a given key if it exists in the dictionary. If not, it returns a default value.\n",
        "- `items()` : Returns a view object that displays a list of a dictionary’s key-value tuple pairs.\n",
        "- `keys()` : Returns a view object that displays a list of all the available keys in the dictionary.\n",
        "- `pop()` : Removes the item with the specified key and returns the value of the removed item.\n",
        "- `popitem()` : Removes and returns an arbitrary item from the dictionary.\n",
        "- `setdefault()` : Returns the value of a key if it exists in the dictionary. If not , it inserts the key with a value that you provide and returns that value.\n",
        "- `update()` : Updates the dictionary with the items from another dictionary or from an iterable of key-valuepairs.\n",
        "- `values()` : Returns a view object that displays a list of all the available values in the dictionary."
      ]
    },
    {
      "cell_type": "code",
      "execution_count": null,
      "id": "acea0272",
      "metadata": {
        "id": "acea0272",
        "outputId": "5ce1c76e-f551-43f7-bb71-7e215a10217a"
      },
      "outputs": [
        {
          "name": "stdout",
          "output_type": "stream",
          "text": [
            "{}\n"
          ]
        }
      ],
      "source": [
        "#clearing the dictionary\n",
        "dict.clear()\n",
        "print(dict)\n"
      ]
    },
    {
      "cell_type": "code",
      "execution_count": null,
      "id": "543ee13c",
      "metadata": {
        "id": "543ee13c"
      },
      "outputs": [],
      "source": [
        "dict={\n",
        "    \"name\":\"ahmad\",\n",
        "    \"age\":25,\n",
        "    \"city\":\"Faisalabad\"\n",
        "}"
      ]
    },
    {
      "cell_type": "code",
      "execution_count": null,
      "id": "ff600067",
      "metadata": {
        "id": "ff600067",
        "outputId": "c311d7d3-1768-44f1-fcc1-ab29c076a035"
      },
      "outputs": [
        {
          "name": "stdout",
          "output_type": "stream",
          "text": [
            "{'name': 'ahmad', 'age': 25, 'city': 'Faisalabad'}\n"
          ]
        }
      ],
      "source": [
        "#copying the dictionary\n",
        "dict2=dict.copy()\n",
        "print(dict2)"
      ]
    },
    {
      "cell_type": "code",
      "execution_count": null,
      "id": "2f8b3ac4",
      "metadata": {
        "id": "2f8b3ac4",
        "outputId": "6cdc35cd-9e49-4d18-9fe4-cebc4ba190bf"
      },
      "outputs": [
        {
          "name": "stdout",
          "output_type": "stream",
          "text": [
            "{'name': 'unknown', 'age': 'unknown', 'city': 'unknown'}\n"
          ]
        }
      ],
      "source": [
        "#fromekey of the dictionary\n",
        "dict3=dict.fromkeys([\"name\",\"age\",\"city\"],\"unknown\")\n",
        "print(dict3)"
      ]
    },
    {
      "cell_type": "code",
      "execution_count": null,
      "id": "96f5803c",
      "metadata": {
        "id": "96f5803c",
        "outputId": "276ffe7d-9cda-48fe-97db-53aa565d750a"
      },
      "outputs": [
        {
          "name": "stdout",
          "output_type": "stream",
          "text": [
            "ahmad\n"
          ]
        }
      ],
      "source": [
        "get_value=dict.get(\"name\")\n",
        "print(get_value)"
      ]
    },
    {
      "cell_type": "code",
      "execution_count": null,
      "id": "9add5250",
      "metadata": {
        "id": "9add5250",
        "outputId": "bdf59785-f510-4848-cc82-1471086d472b"
      },
      "outputs": [
        {
          "name": "stdout",
          "output_type": "stream",
          "text": [
            "dict_items([('name', 'ahmad'), ('age', 25), ('city', 'Faisalabad')])\n"
          ]
        }
      ],
      "source": [
        "items_value=dict.items()\n",
        "print(items_value)"
      ]
    },
    {
      "cell_type": "code",
      "execution_count": null,
      "id": "f7ea62c2",
      "metadata": {
        "id": "f7ea62c2",
        "outputId": "7aac0c0c-d573-4b92-83d1-0b695668147c"
      },
      "outputs": [
        {
          "name": "stdout",
          "output_type": "stream",
          "text": [
            "dict_keys(['name', 'age', 'city'])\n"
          ]
        }
      ],
      "source": [
        "keys_value=dict.keys()\n",
        "print(keys_value)"
      ]
    },
    {
      "cell_type": "code",
      "execution_count": null,
      "id": "0e351ed7",
      "metadata": {
        "id": "0e351ed7",
        "outputId": "12a9eed9-e0de-4732-b75a-f279ae331c1c"
      },
      "outputs": [
        {
          "name": "stdout",
          "output_type": "stream",
          "text": [
            "25\n"
          ]
        }
      ],
      "source": [
        "pop_value=dict.pop(\"age\")\n",
        "print(pop_value)"
      ]
    },
    {
      "cell_type": "code",
      "execution_count": null,
      "id": "f65a9b86",
      "metadata": {
        "id": "f65a9b86",
        "outputId": "44329557-f7f7-43f4-e103-e5f6e9578b5a"
      },
      "outputs": [
        {
          "name": "stdout",
          "output_type": "stream",
          "text": [
            "('city', 'Faisalabad')\n"
          ]
        }
      ],
      "source": [
        "popitem_value=dict.popitem()\n",
        "print(popitem_value)"
      ]
    },
    {
      "cell_type": "code",
      "execution_count": null,
      "id": "2de47c66",
      "metadata": {
        "id": "2de47c66",
        "outputId": "393c0012-758b-4e1a-8aeb-845c919d5fc5"
      },
      "outputs": [
        {
          "name": "stdout",
          "output_type": "stream",
          "text": [
            "Pakistan\n"
          ]
        }
      ],
      "source": [
        "setdefault_value=dict.setdefault(\"country\",\"Pakistan\")\n",
        "print(setdefault_value)"
      ]
    },
    {
      "cell_type": "code",
      "execution_count": null,
      "id": "3dc5a742",
      "metadata": {
        "id": "3dc5a742",
        "outputId": "c940a24a-4a57-4a32-9354-60e6c7b993de"
      },
      "outputs": [
        {
          "name": "stdout",
          "output_type": "stream",
          "text": [
            "None\n"
          ]
        }
      ],
      "source": [
        "update_value=dict.update({\"name\":\"Ali\"})\n",
        "print(update_value)"
      ]
    },
    {
      "cell_type": "code",
      "execution_count": null,
      "id": "6fc76ff1",
      "metadata": {
        "id": "6fc76ff1",
        "outputId": "6504c0c4-dc1b-49f9-c2d5-e7aa4d2b0d14"
      },
      "outputs": [
        {
          "name": "stdout",
          "output_type": "stream",
          "text": [
            "dict_values(['Ali', 'Pakistan'])\n"
          ]
        }
      ],
      "source": [
        "value_value=dict.values()\n",
        "print(value_value)"
      ]
    },
    {
      "cell_type": "code",
      "execution_count": null,
      "id": "57bbe3cd",
      "metadata": {
        "id": "57bbe3cd"
      },
      "outputs": [],
      "source": [
        "dictionary={\n",
        "    \"name\": \"ahmad\",\n",
        "    \"age\": 25,\n",
        "    \"city\": \"Faisalabad\",\n",
        "    \"country\": \"Pakistan\"\n",
        "}\n"
      ]
    },
    {
      "cell_type": "code",
      "execution_count": null,
      "id": "f761914a",
      "metadata": {
        "id": "f761914a",
        "outputId": "d28d911b-2a14-4a3e-ace5-72273ae91e32"
      },
      "outputs": [
        {
          "name": "stdout",
          "output_type": "stream",
          "text": [
            "name: ahmad\n",
            "age: 25\n",
            "city: Faisalabad\n",
            "country: Pakistan\n"
          ]
        }
      ],
      "source": [
        "for key, value in dictionary.items():\n",
        "    print(f\"{key}: {value}\")\n",
        ""
      ]
    },
    {
      "cell_type": "code",
      "execution_count": null,
      "id": "d2708aef",
      "metadata": {
        "id": "d2708aef",
        "outputId": "56576a1b-d0db-46e7-fce4-77ff2fbb65d8"
      },
      "outputs": [
        {
          "name": "stdout",
          "output_type": "stream",
          "text": [
            "Name found: ahmad\n"
          ]
        }
      ],
      "source": [
        "if name := dictionary.get(\"name\"):\n",
        "    print(f\"Name found: {name}\")"
      ]
    },
    {
      "cell_type": "code",
      "execution_count": null,
      "id": "a6ae7fa5",
      "metadata": {
        "id": "a6ae7fa5",
        "outputId": "cbec5752-015b-45fa-ca96-31cf1c2942cd"
      },
      "outputs": [
        {
          "name": "stdout",
          "output_type": "stream",
          "text": [
            "class not found\n"
          ]
        }
      ],
      "source": [
        "if Class := dictionary.get(\"class\"):\n",
        "    print(f\"class found: {Class}\")\n",
        "else:\n",
        "    print(\"class not found\")"
      ]
    },
    {
      "cell_type": "code",
      "execution_count": null,
      "id": "39a39730",
      "metadata": {
        "id": "39a39730",
        "outputId": "be548d74-ee7e-43fe-c2da-57f398ec777d"
      },
      "outputs": [
        {
          "name": "stdout",
          "output_type": "stream",
          "text": [
            "{'key1': 'value1', 'key2': 'value2', 'key3': {'subkey1': 'subvalue1', 'subkey2': 'subvalue2'}}\n"
          ]
        }
      ],
      "source": [
        "#nested dictionary\n",
        "nested_dict = {\n",
        "    \"key1\": \"value1\",\n",
        "    \"key2\": \"value2\",\n",
        "    \"key3\": {\n",
        "        \"subkey1\": \"subvalue1\",\n",
        "        \"subkey2\": \"subvalue2\"\n",
        "    }\n",
        "}\n",
        "print(nested_dict)"
      ]
    }
  ],
  "metadata": {
    "kernelspec": {
      "display_name": ".bootcampai",
      "language": "python",
      "name": "python3"
    },
    "language_info": {
      "codemirror_mode": {
        "name": "ipython",
        "version": 3
      },
      "file_extension": ".py",
      "mimetype": "text/x-python",
      "name": "python",
      "nbconvert_exporter": "python",
      "pygments_lexer": "ipython3",
      "version": "3.10.11"
    },
    "colab": {
      "provenance": []
    }
  },
  "nbformat": 4,
  "nbformat_minor": 5
}