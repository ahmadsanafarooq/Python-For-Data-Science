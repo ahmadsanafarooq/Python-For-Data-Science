{
  "cells": [
    {
      "cell_type": "markdown",
      "id": "aba0c782",
      "metadata": {
        "id": "aba0c782"
      },
      "source": [
        "\n",
        "# DataDrift with Us - Python Day 5\n",
        "## Project: Student Management System\n",
        "This is an intermediate-level Python project using functions, lists, and dictionaries.\n",
        "It allows you to:\n",
        "\n",
        "- Add students\n",
        "- View all students\n",
        "- Search for a student\n",
        "- Remove a student\n",
        "\n"
      ]
    },
    {
      "cell_type": "code",
      "execution_count": 1,
      "id": "87a091f6",
      "metadata": {
        "id": "87a091f6"
      },
      "outputs": [],
      "source": [
        "# List to store student data\n",
        "students = []"
      ]
    },
    {
      "cell_type": "code",
      "execution_count": 2,
      "id": "f8f12de8",
      "metadata": {
        "id": "f8f12de8"
      },
      "outputs": [],
      "source": [
        "# Function to add a student\n",
        "def add_student():\n",
        "    name = input(\"Enter student name: \")\n",
        "    roll_no = input(\"Enter roll number: \")\n",
        "    marks = float(input(\"Enter marks: \"))\n",
        "    student = {\"name\": name, \"roll_no\": roll_no, \"marks\": marks}\n",
        "    students.append(student)\n",
        "    print(\"Student added successfully!\")"
      ]
    },
    {
      "cell_type": "code",
      "execution_count": 3,
      "id": "f75121ee",
      "metadata": {
        "id": "f75121ee"
      },
      "outputs": [],
      "source": [
        "# Function to view all students\n",
        "def view_students():\n",
        "    if not students:\n",
        "        print(\" No student records found.\")\n",
        "        return\n",
        "    for idx, student in enumerate(students, start=1):\n",
        "        print(f\"{idx}. Name: {student['name']}, Roll No: {student['roll_no']}, Marks: {student['marks']}\")"
      ]
    },
    {
      "cell_type": "code",
      "execution_count": 4,
      "id": "0537b9f2",
      "metadata": {
        "id": "0537b9f2"
      },
      "outputs": [],
      "source": [
        "# Function to search a student by name or roll number\n",
        "def search_student():\n",
        "    keyword = input(\"Enter name or roll number to search: \")\n",
        "    found = False\n",
        "    for student in students:\n",
        "        if student[\"name\"] == keyword or student[\"roll_no\"] == keyword:\n",
        "            print(f\" Found: Name: {student['name']}, Roll No: {student['roll_no']}, Marks: {student['marks']}\")\n",
        "            found = True\n",
        "    if not found:\n",
        "        print(\" Student not found.\")"
      ]
    },
    {
      "cell_type": "code",
      "execution_count": 6,
      "id": "9b34b604",
      "metadata": {
        "id": "9b34b604"
      },
      "outputs": [],
      "source": [
        "# Function to remove a student by roll number\n",
        "def remove_student():\n",
        "    roll_no = input(\"Enter roll number of student to remove: \")\n",
        "    for student in students:\n",
        "        if student[\"roll_no\"] == roll_no:\n",
        "            students.remove(student)\n",
        "            print(\" Student removed successfully.\")\n",
        "            return\n",
        "    print(\" Student not found.\")"
      ]
    },
    {
      "cell_type": "code",
      "execution_count": 8,
      "id": "ca75dc4f",
      "metadata": {
        "id": "ca75dc4f"
      },
      "outputs": [],
      "source": [
        "# Main menu to control the flow\n",
        "def main():\n",
        "    while True:\n",
        "        print(\"\\n------ Student Management System ------\")\n",
        "        print(\"1. Add Student\")\n",
        "        print(\"2. View All Students\")\n",
        "        print(\"3. Search Student\")\n",
        "        print(\"4. Remove Student\")\n",
        "        print(\"5. Exit\")\n",
        "\n",
        "        choice = input(\"Enter your choice: \")\n",
        "\n",
        "        if choice == '1':\n",
        "            add_student()\n",
        "        elif choice == '2':\n",
        "            view_students()\n",
        "        elif choice == '3':\n",
        "            search_student()\n",
        "        elif choice == '4':\n",
        "            remove_student()\n",
        "        elif choice == '5':\n",
        "            print(\" Exiting the program.\")\n",
        "            break\n",
        "        else:\n",
        "            print(\" Invalid choice. Please try again.\")"
      ]
    },
    {
      "cell_type": "code",
      "execution_count": 9,
      "id": "30a43074",
      "metadata": {
        "colab": {
          "base_uri": "https://localhost:8080/"
        },
        "id": "30a43074",
        "outputId": "d2d7f076-d7d4-40c4-892e-adce70ed8a87"
      },
      "outputs": [
        {
          "output_type": "stream",
          "name": "stdout",
          "text": [
            "\n",
            "------ Student Management System ------\n",
            "1. Add Student\n",
            "2. View All Students\n",
            "3. Search Student\n",
            "4. Remove Student\n",
            "5. Exit\n",
            "Enter your choice: 1\n",
            "Enter student name: noor\n",
            "Enter roll number: 1\n",
            "Enter marks: 550\n",
            "Student added successfully!\n",
            "\n",
            "------ Student Management System ------\n",
            "1. Add Student\n",
            "2. View All Students\n",
            "3. Search Student\n",
            "4. Remove Student\n",
            "5. Exit\n",
            "Enter your choice: 1\n",
            "Enter student name: afnan\n",
            "Enter roll number: 2\n",
            "Enter marks: 560\n",
            "Student added successfully!\n",
            "\n",
            "------ Student Management System ------\n",
            "1. Add Student\n",
            "2. View All Students\n",
            "3. Search Student\n",
            "4. Remove Student\n",
            "5. Exit\n",
            "Enter your choice: 2\n",
            "1. Name: noor, Roll No: 1, Marks: 550.0\n",
            "2. Name: afnan, Roll No: 2, Marks: 560.0\n",
            "\n",
            "------ Student Management System ------\n",
            "1. Add Student\n",
            "2. View All Students\n",
            "3. Search Student\n",
            "4. Remove Student\n",
            "5. Exit\n",
            "Enter your choice: 3\n",
            "Enter name or roll number to search: 1\n",
            " Found: Name: noor, Roll No: 1, Marks: 550.0\n",
            "\n",
            "------ Student Management System ------\n",
            "1. Add Student\n",
            "2. View All Students\n",
            "3. Search Student\n",
            "4. Remove Student\n",
            "5. Exit\n",
            "Enter your choice: 3\n",
            "Enter name or roll number to search: 3\n",
            " Student not found.\n",
            "\n",
            "------ Student Management System ------\n",
            "1. Add Student\n",
            "2. View All Students\n",
            "3. Search Student\n",
            "4. Remove Student\n",
            "5. Exit\n",
            "Enter your choice: 3\n",
            "Enter name or roll number to search: 2\n",
            " Found: Name: afnan, Roll No: 2, Marks: 560.0\n",
            "\n",
            "------ Student Management System ------\n",
            "1. Add Student\n",
            "2. View All Students\n",
            "3. Search Student\n",
            "4. Remove Student\n",
            "5. Exit\n",
            "Enter your choice: 3\n",
            "Enter name or roll number to search: 4\n",
            " Student not found.\n",
            "\n",
            "------ Student Management System ------\n",
            "1. Add Student\n",
            "2. View All Students\n",
            "3. Search Student\n",
            "4. Remove Student\n",
            "5. Exit\n",
            "Enter your choice: 4\n",
            "Enter roll number of student to remove: 2\n",
            " Student removed successfully.\n",
            "\n",
            "------ Student Management System ------\n",
            "1. Add Student\n",
            "2. View All Students\n",
            "3. Search Student\n",
            "4. Remove Student\n",
            "5. Exit\n",
            "Enter your choice: 2\n",
            "1. Name: noor, Roll No: 1, Marks: 550.0\n",
            "\n",
            "------ Student Management System ------\n",
            "1. Add Student\n",
            "2. View All Students\n",
            "3. Search Student\n",
            "4. Remove Student\n",
            "5. Exit\n",
            "Enter your choice: 5\n",
            " Exiting the program.\n"
          ]
        }
      ],
      "source": [
        "# Run the project\n",
        "main()"
      ]
    }
  ],
  "metadata": {
    "colab": {
      "provenance": []
    },
    "language_info": {
      "name": "python"
    },
    "kernelspec": {
      "name": "python3",
      "display_name": "Python 3"
    }
  },
  "nbformat": 4,
  "nbformat_minor": 5
}