{
 "cells": [
  {
   "cell_type": "markdown",
   "id": "4e39aaa2",
   "metadata": {},
   "source": [
    "**Decoraters** is a function that modify the behaviour of other functions without changing their code.<br>\n",
    "- **Extend Function** They allow us to extend or enhance functions in a reusable way.\n"
   ]
  },
  {
   "cell_type": "code",
   "execution_count": 1,
   "id": "7ef65627",
   "metadata": {},
   "outputs": [
    {
     "name": "stdout",
     "output_type": "stream",
     "text": [
      "Hello, World!\n"
     ]
    }
   ],
   "source": [
    "#functions as first class citizen\n",
    "def greet():\n",
    "    return \"Hello, World!\"\n",
    "\n",
    "def execute_function(func):\n",
    "    return func()\n",
    "\n",
    "# Passing a function as an argument\n",
    "print(execute_function(greet))"
   ]
  },
  {
   "cell_type": "code",
   "execution_count": 2,
   "id": "6ece98de",
   "metadata": {},
   "outputs": [
    {
     "name": "stdout",
     "output_type": "stream",
     "text": [
      "Calling say_hello with arguments () and {}\n",
      "Hello!\n"
     ]
    }
   ],
   "source": [
    "# a simple decorator that logs\n",
    "def logger(func):\n",
    "    def wrapper(*args, **kwargs):\n",
    "        print(f\"Calling {func.__name__} with arguments {args} and {kwargs}\")\n",
    "        return func()\n",
    "    return wrapper\n",
    "@logger\n",
    "def say_hello():\n",
    "    return \"Hello!\"\n",
    "# Using the decorator\n",
    "print(say_hello())"
   ]
  },
  {
   "cell_type": "markdown",
   "id": "6b5604d4",
   "metadata": {},
   "source": [
    "`logger(func)`<br>\n",
    "This is the decorator function. It receives func (e.g., say_hello) as an argument.<br>\n",
    "\n",
    "`def wrapper(*args, **kwargs)`<br>\n",
    "This is a wrapper function that:<br>\n",
    "- Accepts any number of arguments (*args) or keyword arguments (**kwargs)<br>\n",
    "- Adds some logic (like logging)<br>\n",
    "- Then calls the original function func<br>"
   ]
  },
  {
   "cell_type": "markdown",
   "id": "8bfb42e1",
   "metadata": {},
   "source": [
    "**OOP**:  **Object Oriented Programming**<br>\n",
    "\n",
    "- `Class`: A blueprint or template that defines the properties and behavior of an object. Classes are the foundation of OOP and are used to create objects.<br> \n",
    "          - For example:  in the case of car , the class definne how the car looks,what it can do and it's charcateristics like color, model etc.\n",
    "- `Object / Instance`: An instance of a class, which has its own set of attributes.<br> \n",
    "          - For example: a car is an object of the car class, it has its own color, model etc.\n",
    "- `Methods`: (functions) that can be used to manipulate the object.<br> \n",
    "          - For  example: a car object has methods like start, stop, accelerate etc.\n",
    "- `Attribute`: A characteristic or property of an object, such as its name, age, or color.<br> \n",
    "          - For example: a car object has attributes like color, model, year etc."
   ]
  },
  {
   "cell_type": "code",
   "execution_count": 1,
   "id": "3cadd383",
   "metadata": {},
   "outputs": [],
   "source": [
    "# class of house\n",
    "class House:\n",
    "    pass"
   ]
  },
  {
   "cell_type": "code",
   "execution_count": 2,
   "id": "d43a9212",
   "metadata": {},
   "outputs": [],
   "source": [
    "#object of house\n",
    "my_house = House()"
   ]
  },
  {
   "cell_type": "code",
   "execution_count": 3,
   "id": "46b83f77",
   "metadata": {},
   "outputs": [],
   "source": [
    "#attributes of house\n",
    "my_house.color = \"Blue\"\n",
    "my_house.size = \"Large\"\n",
    "my_house.rooms = 5\n",
    "my_house.garden = True"
   ]
  },
  {
   "cell_type": "code",
   "execution_count": 4,
   "id": "6636dcf8",
   "metadata": {},
   "outputs": [
    {
     "name": "stdout",
     "output_type": "stream",
     "text": [
      "My house is Blue, Large with 5 rooms and garden: True\n"
     ]
    }
   ],
   "source": [
    "# use class keyword to define a class\n",
    "class House:\n",
    "    # use __init__ method to initialize attributes , self default parameter\n",
    "    def __init__(self, color, size, rooms, garden):\n",
    "        self.color = color # instance variable\n",
    "        self.size = size # instance variable\n",
    "        self.rooms = rooms # instance variable\n",
    "        self.garden = garden # instance variable\n",
    "# create an object of the House class\n",
    "my_house = House(\"Blue\", \"Large\", 5, True) \n",
    "# print the attributes of the object\n",
    "print(f\"My house is {my_house.color}, {my_house.size} with {my_house.rooms} rooms and garden: {my_house.garden}\")"
   ]
  },
  {
   "cell_type": "code",
   "execution_count": 5,
   "id": "4e0e4f9b",
   "metadata": {},
   "outputs": [
    {
     "name": "stdout",
     "output_type": "stream",
     "text": [
      "My house is Blue, Large with 5 rooms and garden: True\n"
     ]
    }
   ],
   "source": [
    "# methods : object behavior\n",
    "class House:\n",
    "# use __init__ method to initialize attributes\n",
    "    def __init__(self, color, size, rooms, garden):\n",
    "        self.color = color\n",
    "        self.size = size\n",
    "        self.rooms = rooms\n",
    "        self.garden = garden\n",
    "# method to describe the house\n",
    "    def describe(self):\n",
    "# return a string describing the house\n",
    "        return f\"My house is {self.color}, {self.size} with {self.rooms} rooms and garden: {self.garden}\"\n",
    "# create an object of the House class\n",
    "my_house = House(\"Blue\", \"Large\", 5, True)\n",
    "# call the describe method\n",
    "print(my_house.describe())"
   ]
  },
  {
   "cell_type": "markdown",
   "id": "84250de1",
   "metadata": {},
   "source": [
    "`__init__` method : special method in python class. It is called automatically when an object is created from the class and it allows the class to initialize the attributes of the class.<br>\n",
    "\n",
    "`for example: if you creating a house object from the House class, the __init__ method will be called automatically and it will initialize the attributes of the house object.`"
   ]
  },
  {
   "cell_type": "markdown",
   "id": "5682eb16",
   "metadata": {},
   "source": [
    "**Methods in oop:**\n",
    "- Methods are function that define inside a class.\n",
    "- They represent action or behavior of an object can perform.\n",
    "- Help to organize code and make it more readable.\n",
    "\n",
    "**Types of methods:**\n",
    "1. Instance Method : These methods are used to perform operations on an instance of a class.\n",
    "2. Class Method : These methods are used to perform operations on a class.\n",
    "3. Static Method : These methods are used to perform operations that do not depend on the state of the class or its instances."
   ]
  },
  {
   "cell_type": "markdown",
   "id": "88a15be1",
   "metadata": {},
   "source": [
    "`Instance Method`<br>\n",
    " Oprerate an individual instance of the class.First parameter is always self(refrence to the instance).\n",
    " Can access or change other instance variables.<br>\n",
    "`Class Method`<br>\n",
    "Belong to the class not individual object.First parameter is always class name. use @classmethod decorator useful for factory methods and calss-wide actions.<br>\n",
    "`Static Method`<br>\n",
    "Do not access instance(self) or class(calss) data. Behave like regular functions b ut grapped inside classes . use @staticmethod decorator. Great for utility functions that don't depend on the state of the class or instance."
   ]
  },
  {
   "cell_type": "code",
   "execution_count": 6,
   "id": "481b5658",
   "metadata": {},
   "outputs": [
    {
     "name": "stdout",
     "output_type": "stream",
     "text": [
      "The area of the circle is: 78.5\n"
     ]
    }
   ],
   "source": [
    "#Instance method\n",
    "class circle:\n",
    "    def __init__(self, radius):\n",
    "        self.radius = radius  # instance variable\n",
    "\n",
    "    def area(self):\n",
    "        return 3.14 * self.radius ** 2  # instance method to calculate area\n",
    "# create an object of the circle class\n",
    "my_circle = circle(5)\n",
    "# call the area method\n",
    "print(f\"The area of the circle is: {my_circle.area()}\")"
   ]
  },
  {
   "cell_type": "code",
   "execution_count": 7,
   "id": "86b4dc22",
   "metadata": {},
   "outputs": [
    {
     "name": "stdout",
     "output_type": "stream",
     "text": [
      "The school name is: ABC School\n"
     ]
    }
   ],
   "source": [
    "#class method \n",
    "class Student:\n",
    "    school_name = \"ABC School\"\n",
    "    def __init__(self, name, age):\n",
    "        self.name = name\n",
    "        self.age = age\n",
    "    @classmethod\n",
    "    def get_school_name(cls):\n",
    "        return cls.school_name\n",
    "# create an object of the Student class\n",
    "student1 = Student(\"John\", 15)\n",
    "# call the class method\n",
    "print(f\"The school name is: {Student.get_school_name()}\")"
   ]
  },
  {
   "cell_type": "code",
   "execution_count": 8,
   "id": "df38c386",
   "metadata": {},
   "outputs": [
    {
     "name": "stdout",
     "output_type": "stream",
     "text": [
      "The sum of 5 and 10 is: 15\n"
     ]
    }
   ],
   "source": [
    "#static method\n",
    "class MathUtils:\n",
    "    @staticmethod\n",
    "    def add(a, b):\n",
    "        return a + b  # static method to add two numbers\n",
    "\n",
    "# create an object of the MathUtils class\n",
    "math_utils = MathUtils()\n",
    "# call the static method\n",
    "print(f\"The sum of 5 and 10 is: {math_utils.add(5, 10)}\")"
   ]
  }
 ],
 "metadata": {},
 "nbformat": 4,
 "nbformat_minor": 5
}
